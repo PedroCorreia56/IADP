{
 "cells": [
  {
   "cell_type": "code",
   "execution_count": 1,
   "id": "0926dd30",
   "metadata": {},
   "outputs": [],
   "source": [
    "import pandas as pd\n",
    "df = pd.read_csv('gym.csv',sep=';',parse_dates=['date'])"
   ]
  },
  {
   "cell_type": "code",
   "execution_count": 2,
   "id": "92457f43",
   "metadata": {},
   "outputs": [
    {
     "name": "stdout",
     "output_type": "stream",
     "text": [
      "                  name  age  height   status\n",
      "8      Antonio Pereira   51     154  married\n",
      "13   Francisco Freitas   41     152  married\n",
      "14   Francisco Martins   24     153   single\n",
      "16     Francisco Pinho   23     154   single\n",
      "17        Joao Madeira   29     152   single\n",
      "28          Joao Pinho   55     154   single\n",
      "30     Pedro Goncalves   32     156   single\n",
      "38   Francisco Madeira   23     154   single\n",
      "41       Jose Carvalho   26     153  married\n",
      "44  Francisco Carvalho   23     150   single\n",
      "51        Jose Fonseca   41     155  married\n",
      "53       Pedro Fonseca   49     153  married\n"
     ]
    }
   ],
   "source": [
    "def solve():\n",
    "    print(df.loc[(df['height'] <= 156) & (df['sex'] == \"M\"),['name','age','height','status']])\n",
    "\n",
    "solve()"
   ]
  },
  {
   "cell_type": "code",
   "execution_count": null,
   "id": "aea45ce5",
   "metadata": {},
   "outputs": [],
   "source": []
  }
 ],
 "metadata": {
  "kernelspec": {
   "display_name": "Python 3",
   "language": "python",
   "name": "python3"
  },
  "language_info": {
   "codemirror_mode": {
    "name": "ipython",
    "version": 3
   },
   "file_extension": ".py",
   "mimetype": "text/x-python",
   "name": "python",
   "nbconvert_exporter": "python",
   "pygments_lexer": "ipython3",
   "version": "3.8.10 (default, Nov 14 2022, 12:59:47) \n[GCC 9.4.0]"
  },
  "vscode": {
   "interpreter": {
    "hash": "916dbcbb3f70747c44a77c7bcd40155683ae19c65e1c03b4aa3499c5328201f1"
   }
  }
 },
 "nbformat": 4,
 "nbformat_minor": 5
}
