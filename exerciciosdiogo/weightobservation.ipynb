{
 "cells": [
  {
   "cell_type": "code",
   "execution_count": 1,
   "id": "2b632614",
   "metadata": {},
   "outputs": [],
   "source": [
    "\n",
    "\n",
    "import pandas as pd\n",
    "df = pd.read_csv('gym.csv',sep=';',parse_dates=['date'])\n",
    "\n",
    "\n"
   ]
  },
  {
   "cell_type": "code",
   "execution_count": 20,
   "id": "9fe183f4",
   "metadata": {},
   "outputs": [
    {
     "name": "stdout",
     "output_type": "stream",
     "text": [
      "underweight\n",
      "normal weight\n",
      "overweight\n",
      "        id               name  weight    observation\n",
      "0  1373913     Marisa Martins      48    underweight\n",
      "1  1109818       Rita Fonseca      54  normal weight\n",
      "2  1158813      Joana Freitas      42    underweight\n",
      "3  1566515    Joana Goncalves      49    underweight\n",
      "4  1974509  Francisco Fonseca      52  normal weight\n"
     ]
    }
   ],
   "source": [
    "def get_obs(weight):\n",
    "    if weight <= 50:\n",
    "        return \"underweight\"\n",
    "    elif weight > 80:\n",
    "        return \"overweight\"\n",
    "    return \"normal weight\"\n",
    "\n",
    "def solve():\n",
    "    df['observation'] = df['weight'].apply(get_obs)\n",
    "    print(df.loc[0:4,['id','name','weight','observation']])\n",
    "    \n",
    "print(get_obs(50))\n",
    "print(get_obs(80))\n",
    "print(get_obs(90))\n",
    "solve()\n"
   ]
  },
  {
   "cell_type": "code",
   "execution_count": null,
   "id": "f11eb22c",
   "metadata": {},
   "outputs": [],
   "source": []
  },
  {
   "cell_type": "code",
   "execution_count": null,
   "id": "c1d54026",
   "metadata": {},
   "outputs": [],
   "source": []
  }
 ],
 "metadata": {
  "kernelspec": {
   "display_name": "Python 3",
   "language": "python",
   "name": "python3"
  },
  "language_info": {
   "codemirror_mode": {
    "name": "ipython",
    "version": 3
   },
   "file_extension": ".py",
   "mimetype": "text/x-python",
   "name": "python",
   "nbconvert_exporter": "python",
   "pygments_lexer": "ipython3",
   "version": "3.8.10 (default, Nov 14 2022, 12:59:47) \n[GCC 9.4.0]"
  },
  "vscode": {
   "interpreter": {
    "hash": "916dbcbb3f70747c44a77c7bcd40155683ae19c65e1c03b4aa3499c5328201f1"
   }
  }
 },
 "nbformat": 4,
 "nbformat_minor": 5
}
