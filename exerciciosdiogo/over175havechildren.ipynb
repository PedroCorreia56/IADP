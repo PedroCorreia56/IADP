{
 "cells": [
  {
   "cell_type": "code",
   "execution_count": 1,
   "id": "2e4d2254",
   "metadata": {},
   "outputs": [],
   "source": [
    "import pandas as pd\n",
    "df = pd.read_csv('gym.csv',sep=';', parse_dates=['date'])\n"
   ]
  },
  {
   "cell_type": "code",
   "execution_count": 2,
   "id": "7d7f44fb",
   "metadata": {},
   "outputs": [
    {
     "name": "stdout",
     "output_type": "stream",
     "text": [
      "                name  height  children\n",
      "26     Catarina Cruz     176         1\n",
      "34       Manuel Cruz     178         2\n",
      "49     Sonia Pereira     178         3\n",
      "52  Catarina Marinho     178         2\n",
      "59      Joao Tavares     177         2\n"
     ]
    }
   ],
   "source": [
    "def solve():\n",
    "    print(df.loc[(df['height'] > 175) & (df['children'] > 0),['name','height','children']])\n",
    "\n",
    "solve()"
   ]
  },
  {
   "cell_type": "code",
   "execution_count": null,
   "id": "686b3309",
   "metadata": {},
   "outputs": [],
   "source": []
  }
 ],
 "metadata": {
  "kernelspec": {
   "display_name": "Python 3",
   "language": "python",
   "name": "python3"
  },
  "language_info": {
   "codemirror_mode": {
    "name": "ipython",
    "version": 3
   },
   "file_extension": ".py",
   "mimetype": "text/x-python",
   "name": "python",
   "nbconvert_exporter": "python",
   "pygments_lexer": "ipython3",
   "version": "3.8.10 (default, Nov 14 2022, 12:59:47) \n[GCC 9.4.0]"
  },
  "vscode": {
   "interpreter": {
    "hash": "916dbcbb3f70747c44a77c7bcd40155683ae19c65e1c03b4aa3499c5328201f1"
   }
  }
 },
 "nbformat": 4,
 "nbformat_minor": 5
}
